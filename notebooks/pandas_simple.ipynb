{
  "nbformat": 4,
  "nbformat_minor": 0,
  "metadata": {
    "colab": {
      "name": "nom_pandas.ipynb",
      "provenance": [],
      "collapsed_sections": []
    },
    "kernelspec": {
      "name": "python3",
      "display_name": "Python 3"
    }
  },
  "cells": [
    {
      "cell_type": "code",
      "metadata": {
        "id": "TzJmOMuDbuqF",
        "colab_type": "code",
        "outputId": "ea1dd6c8-520f-4dd9-8a09-a2681268e7c6",
        "colab": {
          "base_uri": "https://localhost:8080/",
          "height": 146
        }
      },
      "source": [
        "!pip install nominally\n",
        "\n",
        "import pandas as pd\n",
        "from nominally import Name, parse_name"
      ],
      "execution_count": 0,
      "outputs": [
        {
          "output_type": "stream",
          "text": [
            "Collecting nominally\n",
            "  Downloading https://files.pythonhosted.org/packages/39/95/66df5b4856b47d78930b8afd154fd5659a66b3bcccf49924a47e50226732/nominally-0.9.4-py3-none-any.whl\n",
            "Collecting unidecode==1.1.1 (from nominally)\n",
            "\u001b[?25l  Downloading https://files.pythonhosted.org/packages/d0/42/d9edfed04228bacea2d824904cae367ee9efd05e6cce7ceaaedd0b0ad964/Unidecode-1.1.1-py2.py3-none-any.whl (238kB)\n",
            "\u001b[K     |████████████████████████████████| 245kB 7.9MB/s \n",
            "\u001b[?25hInstalling collected packages: unidecode, nominally\n",
            "Successfully installed nominally-0.9.4 unidecode-1.1.1\n"
          ],
          "name": "stdout"
        }
      ]
    },
    {
      "cell_type": "code",
      "metadata": {
        "id": "EssVMQOEb5Zf",
        "colab_type": "code",
        "outputId": "a83aa17c-ebf8-4609-c5d4-0986f8a01f20",
        "colab": {
          "base_uri": "https://localhost:8080/",
          "height": 35
        }
      },
      "source": [
        "Name(\"Dr Gert Van Der Whoops\")"
      ],
      "execution_count": 0,
      "outputs": [
        {
          "output_type": "execute_result",
          "data": {
            "text/plain": [
              "Name({'title': 'dr', 'first': 'gert', 'middle': '', 'last': 'van der whoops', 'suffix': '', 'nickname': ''})"
            ]
          },
          "metadata": {
            "tags": []
          },
          "execution_count": 13
        }
      ]
    },
    {
      "cell_type": "code",
      "metadata": {
        "id": "iha8-d3-eMFT",
        "colab_type": "code",
        "outputId": "9a842293-cdfa-4e02-8b8e-d5a687a0bad8",
        "colab": {
          "base_uri": "https://localhost:8080/",
          "height": 146
        }
      },
      "source": [
        "def parse_to_columns(s):\n",
        "    return pd.Series({**parse_name(s)})\n",
        "\n",
        "parse_to_columns(\"Dr Gert Van Der Whoops\")"
      ],
      "execution_count": 0,
      "outputs": [
        {
          "output_type": "execute_result",
          "data": {
            "text/plain": [
              "title                   dr\n",
              "first                 gert\n",
              "middle                    \n",
              "last        van der whoops\n",
              "suffix                    \n",
              "nickname                  \n",
              "dtype: object"
            ]
          },
          "metadata": {
            "tags": []
          },
          "execution_count": 18
        }
      ]
    },
    {
      "cell_type": "code",
      "metadata": {
        "id": "Hw9mQVKw4mkl",
        "colab_type": "code",
        "outputId": "ae686a92-3412-4fb6-b304-048f1bc25003",
        "colab": {
          "base_uri": "https://localhost:8080/",
          "height": 201
        }
      },
      "source": [
        "raw_names = [\n",
        "    \"Graham Arthur Chapman\",\n",
        "    \"cleese, john m\",\n",
        "    \"Gilliam, Terrence (Terry) Vance\",\n",
        "    \"Eric Idle\",\n",
        "    'Mr. Terence \"Terry\" Graham Parry Jones',\n",
        "    \"M E Palin\",\n",
        "    \"Neil James Innes\",\n",
        "    \"carol cleveland\",\n",
        "    \"Adams, Douglas N\",\n",
        "]\n",
        "raw_series = pd.Series(raw_names)\n",
        "raw_series"
      ],
      "execution_count": 0,
      "outputs": [
        {
          "output_type": "execute_result",
          "data": {
            "text/plain": [
              "0                     Graham Arthur Chapman\n",
              "1                            cleese, john m\n",
              "2           Gilliam, Terrence (Terry) Vance\n",
              "3                                 Eric Idle\n",
              "4    Mr. Terence \"Terry\" Graham Parry Jones\n",
              "5                                 M E Palin\n",
              "6                          Neil James Innes\n",
              "7                           carol cleveland\n",
              "8                          Adams, Douglas N\n",
              "dtype: object"
            ]
          },
          "metadata": {
            "tags": []
          },
          "execution_count": 24
        }
      ]
    },
    {
      "cell_type": "code",
      "metadata": {
        "id": "p-zY_kub49eb",
        "colab_type": "code",
        "outputId": "ed968eda-1258-4832-e7da-18b9e6ae11dd",
        "colab": {
          "base_uri": "https://localhost:8080/",
          "height": 332
        }
      },
      "source": [
        "parsed_df = raw_series.apply(parse_to_columns)\n",
        "result = pd.DataFrame(raw_series).join(parsed_df)\n",
        "result"
      ],
      "execution_count": 0,
      "outputs": [
        {
          "output_type": "execute_result",
          "data": {
            "text/html": [
              "<div>\n",
              "<style scoped>\n",
              "    .dataframe tbody tr th:only-of-type {\n",
              "        vertical-align: middle;\n",
              "    }\n",
              "\n",
              "    .dataframe tbody tr th {\n",
              "        vertical-align: top;\n",
              "    }\n",
              "\n",
              "    .dataframe thead th {\n",
              "        text-align: right;\n",
              "    }\n",
              "</style>\n",
              "<table border=\"1\" class=\"dataframe\">\n",
              "  <thead>\n",
              "    <tr style=\"text-align: right;\">\n",
              "      <th></th>\n",
              "      <th>0</th>\n",
              "      <th>title</th>\n",
              "      <th>first</th>\n",
              "      <th>middle</th>\n",
              "      <th>last</th>\n",
              "      <th>suffix</th>\n",
              "      <th>nickname</th>\n",
              "    </tr>\n",
              "  </thead>\n",
              "  <tbody>\n",
              "    <tr>\n",
              "      <th>0</th>\n",
              "      <td>Graham Arthur Chapman</td>\n",
              "      <td></td>\n",
              "      <td>graham</td>\n",
              "      <td>arthur</td>\n",
              "      <td>chapman</td>\n",
              "      <td></td>\n",
              "      <td></td>\n",
              "    </tr>\n",
              "    <tr>\n",
              "      <th>1</th>\n",
              "      <td>cleese, john m</td>\n",
              "      <td></td>\n",
              "      <td>john</td>\n",
              "      <td>m</td>\n",
              "      <td>cleese</td>\n",
              "      <td></td>\n",
              "      <td></td>\n",
              "    </tr>\n",
              "    <tr>\n",
              "      <th>2</th>\n",
              "      <td>Gilliam, Terrence (Terry) Vance</td>\n",
              "      <td></td>\n",
              "      <td>terrence</td>\n",
              "      <td>vance</td>\n",
              "      <td>gilliam</td>\n",
              "      <td></td>\n",
              "      <td>terry</td>\n",
              "    </tr>\n",
              "    <tr>\n",
              "      <th>3</th>\n",
              "      <td>Eric Idle</td>\n",
              "      <td></td>\n",
              "      <td>eric</td>\n",
              "      <td></td>\n",
              "      <td>idle</td>\n",
              "      <td></td>\n",
              "      <td></td>\n",
              "    </tr>\n",
              "    <tr>\n",
              "      <th>4</th>\n",
              "      <td>Mr. Terence \"Terry\" Graham Parry Jones</td>\n",
              "      <td>mr</td>\n",
              "      <td>terence</td>\n",
              "      <td>graham parry</td>\n",
              "      <td>jones</td>\n",
              "      <td></td>\n",
              "      <td>terry</td>\n",
              "    </tr>\n",
              "    <tr>\n",
              "      <th>5</th>\n",
              "      <td>M E Palin</td>\n",
              "      <td></td>\n",
              "      <td>m</td>\n",
              "      <td>e</td>\n",
              "      <td>palin</td>\n",
              "      <td></td>\n",
              "      <td></td>\n",
              "    </tr>\n",
              "    <tr>\n",
              "      <th>6</th>\n",
              "      <td>Neil James Innes</td>\n",
              "      <td></td>\n",
              "      <td>neil</td>\n",
              "      <td>james</td>\n",
              "      <td>innes</td>\n",
              "      <td></td>\n",
              "      <td></td>\n",
              "    </tr>\n",
              "    <tr>\n",
              "      <th>7</th>\n",
              "      <td>carol cleveland</td>\n",
              "      <td></td>\n",
              "      <td>carol</td>\n",
              "      <td></td>\n",
              "      <td>cleveland</td>\n",
              "      <td></td>\n",
              "      <td></td>\n",
              "    </tr>\n",
              "    <tr>\n",
              "      <th>8</th>\n",
              "      <td>Adams, Douglas N</td>\n",
              "      <td></td>\n",
              "      <td>douglas</td>\n",
              "      <td>n</td>\n",
              "      <td>adams</td>\n",
              "      <td></td>\n",
              "      <td></td>\n",
              "    </tr>\n",
              "  </tbody>\n",
              "</table>\n",
              "</div>"
            ],
            "text/plain": [
              "                                        0 title  ... suffix nickname\n",
              "0                   Graham Arthur Chapman        ...                \n",
              "1                          cleese, john m        ...                \n",
              "2         Gilliam, Terrence (Terry) Vance        ...           terry\n",
              "3                               Eric Idle        ...                \n",
              "4  Mr. Terence \"Terry\" Graham Parry Jones    mr  ...           terry\n",
              "5                               M E Palin        ...                \n",
              "6                        Neil James Innes        ...                \n",
              "7                         carol cleveland        ...                \n",
              "8                        Adams, Douglas N        ...                \n",
              "\n",
              "[9 rows x 7 columns]"
            ]
          },
          "metadata": {
            "tags": []
          },
          "execution_count": 20
        }
      ]
    }
  ]
}