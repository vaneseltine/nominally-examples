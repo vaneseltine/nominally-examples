{
 "cells": [
  {
   "cell_type": "code",
   "execution_count": 1,
   "metadata": {
    "colab": {
     "base_uri": "https://localhost:8080/",
     "height": 146
    },
    "colab_type": "code",
    "id": "TzJmOMuDbuqF",
    "outputId": "ea1dd6c8-520f-4dd9-8a09-a2681268e7c6"
   },
   "outputs": [],
   "source": [
    "import pandas as pd\n",
    "from nominally import Name, parse_name"
   ]
  },
  {
   "cell_type": "code",
   "execution_count": 2,
   "metadata": {
    "colab": {
     "base_uri": "https://localhost:8080/",
     "height": 146
    },
    "colab_type": "code",
    "id": "iha8-d3-eMFT",
    "outputId": "9a842293-cdfa-4e02-8b8e-d5a687a0bad8"
   },
   "outputs": [
    {
     "data": {
      "text/plain": [
       "title                   dr\n",
       "first                 gert\n",
       "middle                    \n",
       "last        van der whoops\n",
       "suffix                    \n",
       "nickname                  \n",
       "dtype: object"
      ]
     },
     "execution_count": 2,
     "metadata": {},
     "output_type": "execute_result"
    }
   ],
   "source": [
    "def parse_to_columns(s):\n",
    "    return pd.Series({**parse_name(s)})\n",
    "\n",
    "parse_to_columns(\"Dr Gert Van Der Whoops\")"
   ]
  },
  {
   "cell_type": "code",
   "execution_count": 3,
   "metadata": {
    "colab": {
     "base_uri": "https://localhost:8080/",
     "height": 201
    },
    "colab_type": "code",
    "id": "Hw9mQVKw4mkl",
    "outputId": "ae686a92-3412-4fb6-b304-048f1bc25003"
   },
   "outputs": [
    {
     "data": {
      "text/html": [
       "<div>\n",
       "<style scoped>\n",
       "    .dataframe tbody tr th:only-of-type {\n",
       "        vertical-align: middle;\n",
       "    }\n",
       "\n",
       "    .dataframe tbody tr th {\n",
       "        vertical-align: top;\n",
       "    }\n",
       "\n",
       "    .dataframe thead th {\n",
       "        text-align: right;\n",
       "    }\n",
       "</style>\n",
       "<table border=\"1\" class=\"dataframe\">\n",
       "  <thead>\n",
       "    <tr style=\"text-align: right;\">\n",
       "      <th></th>\n",
       "      <th>raw</th>\n",
       "    </tr>\n",
       "  </thead>\n",
       "  <tbody>\n",
       "    <tr>\n",
       "      <td>0</td>\n",
       "      <td>Graham Arthur Chapman</td>\n",
       "    </tr>\n",
       "    <tr>\n",
       "      <td>1</td>\n",
       "      <td>cleese, john m</td>\n",
       "    </tr>\n",
       "    <tr>\n",
       "      <td>2</td>\n",
       "      <td>Gilliam, Terrence (Terry) Vance</td>\n",
       "    </tr>\n",
       "    <tr>\n",
       "      <td>3</td>\n",
       "      <td>Eric Idle</td>\n",
       "    </tr>\n",
       "    <tr>\n",
       "      <td>4</td>\n",
       "      <td>Mr. Terence \"Terry\" Graham Parry Jones</td>\n",
       "    </tr>\n",
       "    <tr>\n",
       "      <td>5</td>\n",
       "      <td>M E Palin</td>\n",
       "    </tr>\n",
       "    <tr>\n",
       "      <td>6</td>\n",
       "      <td>Neil James Innes</td>\n",
       "    </tr>\n",
       "    <tr>\n",
       "      <td>7</td>\n",
       "      <td>carol cleveland</td>\n",
       "    </tr>\n",
       "    <tr>\n",
       "      <td>8</td>\n",
       "      <td>Adams, Douglas N</td>\n",
       "    </tr>\n",
       "  </tbody>\n",
       "</table>\n",
       "</div>"
      ],
      "text/plain": [
       "                                      raw\n",
       "0                   Graham Arthur Chapman\n",
       "1                          cleese, john m\n",
       "2         Gilliam, Terrence (Terry) Vance\n",
       "3                               Eric Idle\n",
       "4  Mr. Terence \"Terry\" Graham Parry Jones\n",
       "5                               M E Palin\n",
       "6                        Neil James Innes\n",
       "7                         carol cleveland\n",
       "8                        Adams, Douglas N"
      ]
     },
     "execution_count": 3,
     "metadata": {},
     "output_type": "execute_result"
    }
   ],
   "source": [
    "raw_list = [\n",
    "    \"Graham Arthur Chapman\",\n",
    "    \"cleese, john m\",\n",
    "    \"Gilliam, Terrence (Terry) Vance\",\n",
    "    \"Eric Idle\",\n",
    "    'Mr. Terence \"Terry\" Graham Parry Jones',\n",
    "    \"M E Palin\",\n",
    "    \"Neil James Innes\",\n",
    "    \"carol cleveland\",\n",
    "    \"Adams, Douglas N\",\n",
    "]\n",
    "raw_df = pd.DataFrame(raw_list, columns=['raw'])\n",
    "raw_df"
   ]
  },
  {
   "cell_type": "code",
   "execution_count": 4,
   "metadata": {
    "colab": {
     "base_uri": "https://localhost:8080/",
     "height": 332
    },
    "colab_type": "code",
    "id": "p-zY_kub49eb",
    "outputId": "ed968eda-1258-4832-e7da-18b9e6ae11dd"
   },
   "outputs": [
    {
     "data": {
      "text/html": [
       "<div>\n",
       "<style scoped>\n",
       "    .dataframe tbody tr th:only-of-type {\n",
       "        vertical-align: middle;\n",
       "    }\n",
       "\n",
       "    .dataframe tbody tr th {\n",
       "        vertical-align: top;\n",
       "    }\n",
       "\n",
       "    .dataframe thead th {\n",
       "        text-align: right;\n",
       "    }\n",
       "</style>\n",
       "<table border=\"1\" class=\"dataframe\">\n",
       "  <thead>\n",
       "    <tr style=\"text-align: right;\">\n",
       "      <th></th>\n",
       "      <th>raw</th>\n",
       "      <th>title</th>\n",
       "      <th>first</th>\n",
       "      <th>middle</th>\n",
       "      <th>last</th>\n",
       "      <th>suffix</th>\n",
       "      <th>nickname</th>\n",
       "    </tr>\n",
       "  </thead>\n",
       "  <tbody>\n",
       "    <tr>\n",
       "      <td>0</td>\n",
       "      <td>Graham Arthur Chapman</td>\n",
       "      <td></td>\n",
       "      <td>graham</td>\n",
       "      <td>arthur</td>\n",
       "      <td>chapman</td>\n",
       "      <td></td>\n",
       "      <td></td>\n",
       "    </tr>\n",
       "    <tr>\n",
       "      <td>1</td>\n",
       "      <td>cleese, john m</td>\n",
       "      <td></td>\n",
       "      <td>john</td>\n",
       "      <td>m</td>\n",
       "      <td>cleese</td>\n",
       "      <td></td>\n",
       "      <td></td>\n",
       "    </tr>\n",
       "    <tr>\n",
       "      <td>2</td>\n",
       "      <td>Gilliam, Terrence (Terry) Vance</td>\n",
       "      <td></td>\n",
       "      <td>terrence</td>\n",
       "      <td>vance</td>\n",
       "      <td>gilliam</td>\n",
       "      <td></td>\n",
       "      <td>terry</td>\n",
       "    </tr>\n",
       "    <tr>\n",
       "      <td>3</td>\n",
       "      <td>Eric Idle</td>\n",
       "      <td></td>\n",
       "      <td>eric</td>\n",
       "      <td></td>\n",
       "      <td>idle</td>\n",
       "      <td></td>\n",
       "      <td></td>\n",
       "    </tr>\n",
       "    <tr>\n",
       "      <td>4</td>\n",
       "      <td>Mr. Terence \"Terry\" Graham Parry Jones</td>\n",
       "      <td>mr</td>\n",
       "      <td>terence</td>\n",
       "      <td>graham parry</td>\n",
       "      <td>jones</td>\n",
       "      <td></td>\n",
       "      <td>terry</td>\n",
       "    </tr>\n",
       "    <tr>\n",
       "      <td>5</td>\n",
       "      <td>M E Palin</td>\n",
       "      <td></td>\n",
       "      <td>m</td>\n",
       "      <td>e</td>\n",
       "      <td>palin</td>\n",
       "      <td></td>\n",
       "      <td></td>\n",
       "    </tr>\n",
       "    <tr>\n",
       "      <td>6</td>\n",
       "      <td>Neil James Innes</td>\n",
       "      <td></td>\n",
       "      <td>neil</td>\n",
       "      <td>james</td>\n",
       "      <td>innes</td>\n",
       "      <td></td>\n",
       "      <td></td>\n",
       "    </tr>\n",
       "    <tr>\n",
       "      <td>7</td>\n",
       "      <td>carol cleveland</td>\n",
       "      <td></td>\n",
       "      <td>carol</td>\n",
       "      <td></td>\n",
       "      <td>cleveland</td>\n",
       "      <td></td>\n",
       "      <td></td>\n",
       "    </tr>\n",
       "    <tr>\n",
       "      <td>8</td>\n",
       "      <td>Adams, Douglas N</td>\n",
       "      <td></td>\n",
       "      <td>douglas</td>\n",
       "      <td>n</td>\n",
       "      <td>adams</td>\n",
       "      <td></td>\n",
       "      <td></td>\n",
       "    </tr>\n",
       "  </tbody>\n",
       "</table>\n",
       "</div>"
      ],
      "text/plain": [
       "                                      raw title     first        middle  \\\n",
       "0                   Graham Arthur Chapman          graham        arthur   \n",
       "1                          cleese, john m            john             m   \n",
       "2         Gilliam, Terrence (Terry) Vance        terrence         vance   \n",
       "3                               Eric Idle            eric                 \n",
       "4  Mr. Terence \"Terry\" Graham Parry Jones    mr   terence  graham parry   \n",
       "5                               M E Palin               m             e   \n",
       "6                        Neil James Innes            neil         james   \n",
       "7                         carol cleveland           carol                 \n",
       "8                        Adams, Douglas N         douglas             n   \n",
       "\n",
       "        last suffix nickname  \n",
       "0    chapman                  \n",
       "1     cleese                  \n",
       "2    gilliam           terry  \n",
       "3       idle                  \n",
       "4      jones           terry  \n",
       "5      palin                  \n",
       "6      innes                  \n",
       "7  cleveland                  \n",
       "8      adams                  "
      ]
     },
     "execution_count": 4,
     "metadata": {},
     "output_type": "execute_result"
    }
   ],
   "source": [
    "parsed_df = raw_df['raw'].apply(parse_to_columns)\n",
    "result = pd.concat([raw_df, parsed_df], axis=1)\n",
    "result"
   ]
  }
 ],
 "metadata": {
  "colab": {
   "collapsed_sections": [],
   "name": "nom_pandas.ipynb",
   "provenance": []
  },
  "kernelspec": {
   "display_name": "Python 3",
   "language": "python",
   "name": "python3"
  },
  "language_info": {
   "codemirror_mode": {
    "name": "ipython",
    "version": 3
   },
   "file_extension": ".py",
   "mimetype": "text/x-python",
   "name": "python",
   "nbconvert_exporter": "python",
   "pygments_lexer": "ipython3",
   "version": "3.7.3"
  }
 },
 "nbformat": 4,
 "nbformat_minor": 1
}
