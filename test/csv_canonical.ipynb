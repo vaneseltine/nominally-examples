{
 "cells": [
  {
   "cell_type": "code",
   "execution_count": 1,
   "metadata": {},
   "outputs": [],
   "source": [
    "import sys\n",
    "from csv import DictReader, DictWriter\n",
    "from pathlib import Path\n",
    "from pprint import pprint\n",
    "\n",
    "from nominally import parse_name"
   ]
  },
  {
   "cell_type": "code",
   "execution_count": 2,
   "metadata": {},
   "outputs": [],
   "source": [
    "DATA_FOLDER = Path(\"../data/\")\n",
    "DATA_FOLDER.mkdir(exist_ok=True)\n",
    "CSV_NEWLINE = \"\" if sys.platform.startswith(\"win\") else None"
   ]
  },
  {
   "cell_type": "code",
   "execution_count": 3,
   "metadata": {},
   "outputs": [
    {
     "name": "stdout",
     "output_type": "stream",
     "text": [
      "Wrote 10 names to names.csv.\n"
     ]
    }
   ],
   "source": [
    "CSV_IN = DATA_FOLDER / \"names.csv\"\n",
    "CSV_OUT = DATA_FOLDER / f\"names_parsed.csv\"\n",
    "NAME_FIELD = \"full\"\n",
    "\n",
    "DATA = \"\"\"full\n",
    "Mr. Samuel 'Sam' Vimes\n",
    "Samuel \"Young Sam\" Vimes II.\n",
    "Sybil Deirdre Olgivanna Ramkin-Vimes\n",
    "Claude Maximillian Overton Transpire (CMOT) Dibbler\n",
    "Jane Mary Betty Ann Pamela von Jones\n",
    "John \"Not-A-Vampire-At-All\" Smith\n",
    "\"Dr Lawn, John (Mossy)\"\n",
    "\"Vetinari, Havelock\"\n",
    "William de Worde\n",
    "\"von Lipwig, Moist\"\n",
    "\"\"\"\n",
    "\n",
    "CSV_IN.write_text(DATA)\n",
    "print(f\"Wrote {len(DATA.splitlines()) - 1} names to {CSV_IN.name}.\")"
   ]
  },
  {
   "cell_type": "code",
   "execution_count": 4,
   "metadata": {},
   "outputs": [
    {
     "name": "stdout",
     "output_type": "stream",
     "text": [
      "Read 10 raw names from names.csv\n"
     ]
    }
   ],
   "source": [
    "with CSV_IN.open(\"r\") as infile:\n",
    "    reader = DictReader(infile)\n",
    "    raw_names = [row[NAME_FIELD] for row in reader]\n",
    "print(f\"Read {len(raw_names)} raw names from {CSV_IN.name}\")"
   ]
  },
  {
   "cell_type": "code",
   "execution_count": 5,
   "metadata": {},
   "outputs": [
    {
     "data": {
      "text/plain": [
       "[\"Mr. Samuel 'Sam' Vimes\",\n",
       " 'Samuel \"Young Sam\" Vimes II.',\n",
       " 'Sybil Deirdre Olgivanna Ramkin-Vimes',\n",
       " 'Claude Maximillian Overton Transpire (CMOT) Dibbler',\n",
       " 'Jane Mary Betty Ann Pamela von Jones',\n",
       " 'John \"Not-A-Vampire-At-All\" Smith',\n",
       " 'Dr Lawn, John (Mossy)',\n",
       " 'Vetinari, Havelock',\n",
       " 'William de Worde',\n",
       " 'von Lipwig, Moist']"
      ]
     },
     "execution_count": 5,
     "metadata": {},
     "output_type": "execute_result"
    }
   ],
   "source": [
    "raw_names"
   ]
  },
  {
   "cell_type": "code",
   "execution_count": 6,
   "metadata": {},
   "outputs": [
    {
     "data": {
      "text/plain": [
       "[{'full': \"Mr. Samuel 'Sam' Vimes\",\n",
       "  'title': 'mr',\n",
       "  'first': 'samuel',\n",
       "  'middle': '',\n",
       "  'last': 'vimes',\n",
       "  'suffix': '',\n",
       "  'nickname': 'sam'},\n",
       " {'full': 'Samuel \"Young Sam\" Vimes II.',\n",
       "  'title': '',\n",
       "  'first': 'samuel',\n",
       "  'middle': '',\n",
       "  'last': 'vimes',\n",
       "  'suffix': 'ii',\n",
       "  'nickname': 'young sam'},\n",
       " {'full': 'Sybil Deirdre Olgivanna Ramkin-Vimes',\n",
       "  'title': '',\n",
       "  'first': 'sybil',\n",
       "  'middle': 'deirdre olgivanna',\n",
       "  'last': 'ramkin-vimes',\n",
       "  'suffix': '',\n",
       "  'nickname': ''},\n",
       " {'full': 'Claude Maximillian Overton Transpire (CMOT) Dibbler',\n",
       "  'title': '',\n",
       "  'first': 'claude',\n",
       "  'middle': 'maximillian overton transpire',\n",
       "  'last': 'dibbler',\n",
       "  'suffix': '',\n",
       "  'nickname': 'cmot'},\n",
       " {'full': 'Jane Mary Betty Ann Pamela von Jones',\n",
       "  'title': '',\n",
       "  'first': 'jane',\n",
       "  'middle': 'mary betty ann pamela',\n",
       "  'last': 'von jones',\n",
       "  'suffix': '',\n",
       "  'nickname': ''},\n",
       " {'full': 'John \"Not-A-Vampire-At-All\" Smith',\n",
       "  'title': '',\n",
       "  'first': 'john',\n",
       "  'middle': '',\n",
       "  'last': 'smith',\n",
       "  'suffix': '',\n",
       "  'nickname': 'not-a-vampire-at-all'},\n",
       " {'full': 'Dr Lawn, John (Mossy)',\n",
       "  'title': 'dr',\n",
       "  'first': 'john',\n",
       "  'middle': '',\n",
       "  'last': 'lawn',\n",
       "  'suffix': '',\n",
       "  'nickname': 'mossy'},\n",
       " {'full': 'Vetinari, Havelock',\n",
       "  'title': '',\n",
       "  'first': 'havelock',\n",
       "  'middle': '',\n",
       "  'last': 'vetinari',\n",
       "  'suffix': '',\n",
       "  'nickname': ''},\n",
       " {'full': 'William de Worde',\n",
       "  'title': '',\n",
       "  'first': 'william',\n",
       "  'middle': '',\n",
       "  'last': 'de worde',\n",
       "  'suffix': '',\n",
       "  'nickname': ''},\n",
       " {'full': 'von Lipwig, Moist',\n",
       "  'title': '',\n",
       "  'first': 'moist',\n",
       "  'middle': '',\n",
       "  'last': 'von lipwig',\n",
       "  'suffix': '',\n",
       "  'nickname': ''}]"
      ]
     },
     "execution_count": 6,
     "metadata": {},
     "output_type": "execute_result"
    }
   ],
   "source": [
    "parsed_basic = [{NAME_FIELD: raw, **parse_name(raw)} for raw in raw_names]\n",
    "parsed_basic"
   ]
  },
  {
   "cell_type": "code",
   "execution_count": 7,
   "metadata": {},
   "outputs": [
    {
     "name": "stdout",
     "output_type": "stream",
     "text": [
      "Output 10 names to names_parsed.csv\n"
     ]
    }
   ],
   "source": [
    "with CSV_OUT.open(\"w\", newline=CSV_NEWLINE) as outfile:\n",
    "    writer = DictWriter(outfile, list(parsed_basic[0].keys()))\n",
    "    writer.writeheader()\n",
    "    writer.writerows(parsed_basic)\n",
    "print(f\"Output {len(parsed_basic)} names to {CSV_OUT.name}\")"
   ]
  },
  {
   "cell_type": "code",
   "execution_count": 8,
   "metadata": {},
   "outputs": [
    {
     "name": "stdout",
     "output_type": "stream",
     "text": [
      "full,title,first,middle,last,suffix,nickname\n",
      "Mr. Samuel 'Sam' Vimes,mr,samuel,,vimes,,sam\n",
      "\"Samuel \"\"Young Sam\"\" Vimes II.\",,samuel,,vimes,ii,young sam\n",
      "Sybil Deirdre Olgivanna Ramkin-Vimes,,sybil,deirdre olgivanna,ramkin-vimes,,\n",
      "Claude Maximillian Overton Transpire (CMOT) Dibbler,,claude,maximillian overton transpire,dibbler,,cmot\n",
      "Jane Mary Betty Ann Pamela von Jones,,jane,mary betty ann pamela,von jones,,\n",
      "\"John \"\"Not-A-Vampire-At-All\"\" Smith\",,john,,smith,,not-a-vampire-at-all\n",
      "\"Dr Lawn, John (Mossy)\",dr,john,,lawn,,mossy\n",
      "\"Vetinari, Havelock\",,havelock,,vetinari,,\n",
      "William de Worde,,william,,de worde,,\n",
      "\"von Lipwig, Moist\",,moist,,von lipwig,,\n",
      "\n"
     ]
    }
   ],
   "source": [
    "print(CSV_OUT.read_text())"
   ]
  }
 ],
 "metadata": {
  "kernelspec": {
   "display_name": "Python 3",
   "language": "python",
   "name": "python3"
  },
  "language_info": {
   "codemirror_mode": {
    "name": "ipython",
    "version": 3
   },
   "file_extension": ".py",
   "mimetype": "text/x-python",
   "name": "python",
   "nbconvert_exporter": "python",
   "pygments_lexer": "ipython3",
   "version": "3.7.4"
  }
 },
 "nbformat": 4,
 "nbformat_minor": 2
}
