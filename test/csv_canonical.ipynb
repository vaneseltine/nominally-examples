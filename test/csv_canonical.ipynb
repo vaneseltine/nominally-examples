{
 "cells": [
  {
   "cell_type": "code",
   "execution_count": 1,
   "metadata": {},
   "outputs": [],
   "source": [
    "import sys\n",
    "from csv import DictReader, DictWriter\n",
    "from pathlib import Path\n",
    "from pprint import pprint\n",
    "\n",
    "from nominally import parse_name"
   ]
  },
  {
   "cell_type": "code",
   "execution_count": 2,
   "metadata": {},
   "outputs": [
    {
     "data": {
      "text/plain": [
       "[PosixPath('../data/names.csv'), PosixPath('../data/names_parsed.csv')]"
      ]
     },
     "execution_count": 2,
     "metadata": {},
     "output_type": "execute_result"
    }
   ],
   "source": [
    "DATA_FOLDER = Path('../data/')\n",
    "DATA_FOLDER.mkdir(exist_ok=True)\n",
    "CSV_NEWLINE = \"\" if sys.platform.startswith(\"win\") else None\n",
    "list(DATA_FOLDER.glob('*'))"
   ]
  },
  {
   "cell_type": "code",
   "execution_count": 3,
   "metadata": {},
   "outputs": [
    {
     "name": "stdout",
     "output_type": "stream",
     "text": [
      "Wrote raw fullnames to ../data/names.csv.\n"
     ]
    }
   ],
   "source": [
    "CSV_IN = DATA_FOLDER / \"names.csv\"\n",
    "CSV_OUT = DATA_FOLDER / f\"names_parsed.csv\"\n",
    "NAME_FIELD = \"fullname\"\n",
    "\n",
    "DATA = \"\"\"fullname\n",
    "Mr. Samuel 'Sam' Vimes\n",
    "Samuel \"Young Sam\" Vimes II.\n",
    "Sybil Deirdre Olgivanna Ramkin-Vimes\n",
    "Claude Maximillian Overton Transpire (CMOT) Dibbler\n",
    "Jane Mary Betty Ann Pamela von Jones\n",
    "John \"Not-A-Vampire-At-All\" Smith\n",
    "\"Dr Lawn, John (Mossy)\"\n",
    "\"Vetinari, Havelock\"\n",
    "William de Worde\n",
    "\"von Lipwig, Moist\"\n",
    "\"\"\"\n",
    "\n",
    "CSV_IN.write_text(DATA)\n",
    "print(f\"Wrote raw fullnames to {CSV_IN}.\")"
   ]
  },
  {
   "cell_type": "code",
   "execution_count": 4,
   "metadata": {},
   "outputs": [
    {
     "name": "stdout",
     "output_type": "stream",
     "text": [
      "Read raw names from ../data/names_parsed.csv\n"
     ]
    },
    {
     "data": {
      "text/plain": [
       "[\"Mr. Samuel 'Sam' Vimes\",\n",
       " 'Samuel \"Young Sam\" Vimes II.',\n",
       " 'Sybil Deirdre Olgivanna Ramkin-Vimes',\n",
       " 'Claude Maximillian Overton Transpire (CMOT) Dibbler',\n",
       " 'Jane Mary Betty Ann Pamela von Jones',\n",
       " 'John \"Not-A-Vampire-At-All\" Smith',\n",
       " 'Dr Lawn, John (Mossy)',\n",
       " 'Vetinari, Havelock',\n",
       " 'William de Worde',\n",
       " 'von Lipwig, Moist']"
      ]
     },
     "execution_count": 4,
     "metadata": {},
     "output_type": "execute_result"
    }
   ],
   "source": [
    "with CSV_IN.open(\"r\") as infile:\n",
    "    reader = DictReader(infile)\n",
    "    raw_names = [row[NAME_FIELD] for row in reader]\n",
    "print(f\"Read raw names from {CSV_OUT}\")\n",
    "raw_names"
   ]
  },
  {
   "cell_type": "code",
   "execution_count": 5,
   "metadata": {},
   "outputs": [
    {
     "data": {
      "text/plain": [
       "[{'fullname': \"Mr. Samuel 'Sam' Vimes\",\n",
       "  'title': 'mr',\n",
       "  'first': 'samuel',\n",
       "  'middle': '',\n",
       "  'last': 'vimes',\n",
       "  'suffix': '',\n",
       "  'nickname': 'sam'},\n",
       " {'fullname': 'Samuel \"Young Sam\" Vimes II.',\n",
       "  'title': '',\n",
       "  'first': 'samuel',\n",
       "  'middle': '',\n",
       "  'last': 'vimes',\n",
       "  'suffix': 'ii',\n",
       "  'nickname': 'young sam'},\n",
       " {'fullname': 'Sybil Deirdre Olgivanna Ramkin-Vimes',\n",
       "  'title': '',\n",
       "  'first': 'sybil',\n",
       "  'middle': 'deirdre olgivanna',\n",
       "  'last': 'ramkin-vimes',\n",
       "  'suffix': '',\n",
       "  'nickname': ''},\n",
       " {'fullname': 'Claude Maximillian Overton Transpire (CMOT) Dibbler',\n",
       "  'title': '',\n",
       "  'first': 'claude',\n",
       "  'middle': 'maximillian overton transpire',\n",
       "  'last': 'dibbler',\n",
       "  'suffix': '',\n",
       "  'nickname': 'cmot'},\n",
       " {'fullname': 'Jane Mary Betty Ann Pamela von Jones',\n",
       "  'title': '',\n",
       "  'first': 'jane',\n",
       "  'middle': 'mary betty ann pamela',\n",
       "  'last': 'von jones',\n",
       "  'suffix': '',\n",
       "  'nickname': ''},\n",
       " {'fullname': 'John \"Not-A-Vampire-At-All\" Smith',\n",
       "  'title': '',\n",
       "  'first': 'john',\n",
       "  'middle': '',\n",
       "  'last': 'smith',\n",
       "  'suffix': '',\n",
       "  'nickname': 'not-a-vampire-at-all'},\n",
       " {'fullname': 'Dr Lawn, John (Mossy)',\n",
       "  'title': 'dr',\n",
       "  'first': 'john',\n",
       "  'middle': '',\n",
       "  'last': 'lawn',\n",
       "  'suffix': '',\n",
       "  'nickname': 'mossy'},\n",
       " {'fullname': 'Vetinari, Havelock',\n",
       "  'title': '',\n",
       "  'first': 'havelock',\n",
       "  'middle': '',\n",
       "  'last': 'vetinari',\n",
       "  'suffix': '',\n",
       "  'nickname': ''},\n",
       " {'fullname': 'William de Worde',\n",
       "  'title': '',\n",
       "  'first': 'william',\n",
       "  'middle': '',\n",
       "  'last': 'de worde',\n",
       "  'suffix': '',\n",
       "  'nickname': ''},\n",
       " {'fullname': 'von Lipwig, Moist',\n",
       "  'title': '',\n",
       "  'first': 'moist',\n",
       "  'middle': '',\n",
       "  'last': 'von lipwig',\n",
       "  'suffix': '',\n",
       "  'nickname': ''}]"
      ]
     },
     "execution_count": 5,
     "metadata": {},
     "output_type": "execute_result"
    }
   ],
   "source": [
    "parsed_basic = [{NAME_FIELD: raw, **parse_name(raw)} for raw in raw_names]\n",
    "parsed_basic"
   ]
  },
  {
   "cell_type": "code",
   "execution_count": 6,
   "metadata": {},
   "outputs": [
    {
     "name": "stdout",
     "output_type": "stream",
     "text": [
      "Output to ../data/names_parsed.csv\n"
     ]
    }
   ],
   "source": [
    "with CSV_OUT.open(\"w\", newline=CSV_NEWLINE) as outfile:\n",
    "    writer = DictWriter(outfile, list(parsed_basic[0].keys()))\n",
    "    writer.writeheader()\n",
    "    writer.writerows(parsed_basic)\n",
    "print(f\"Output to {CSV_OUT}\")"
   ]
  },
  {
   "cell_type": "code",
   "execution_count": 7,
   "metadata": {},
   "outputs": [
    {
     "name": "stdout",
     "output_type": "stream",
     "text": [
      "fullname,title,first,middle,last,suffix,nickname\n",
      "Mr. Samuel 'Sam' Vimes,mr,samuel,,vimes,,sam\n",
      "\"Samuel \"\"Young Sam\"\" Vimes II.\",,samuel,,vimes,ii,young sam\n",
      "Sybil Deirdre Olgivanna Ramkin-Vimes,,sybil,deirdre olgivanna,ramkin-vimes,,\n",
      "Claude Maximillian Overton Transpire (CMOT) Dibbler,,claude,maximillian overton transpire,dibbler,,cmot\n",
      "Jane Mary Betty Ann Pamela von Jones,,jane,mary betty ann pamela,von jones,,\n",
      "\"John \"\"Not-A-Vampire-At-All\"\" Smith\",,john,,smith,,not-a-vampire-at-all\n",
      "\"Dr Lawn, John (Mossy)\",dr,john,,lawn,,mossy\n",
      "\"Vetinari, Havelock\",,havelock,,vetinari,,\n",
      "William de Worde,,william,,de worde,,\n",
      "\"von Lipwig, Moist\",,moist,,von lipwig,,\n",
      "\n"
     ]
    }
   ],
   "source": [
    "print(CSV_OUT.read_text())"
   ]
  },
  {
   "cell_type": "code",
   "execution_count": 32,
   "metadata": {},
   "outputs": [
    {
     "name": "stdout",
     "output_type": "stream",
     "text": [
      "csv.ipynb  pandas_simple.ipynb\r\n"
     ]
    }
   ],
   "source": []
  }
 ],
 "metadata": {
  "kernelspec": {
   "display_name": "Python 3",
   "language": "python",
   "name": "python3"
  },
  "language_info": {
   "codemirror_mode": {
    "name": "ipython",
    "version": 3
   },
   "file_extension": ".py",
   "mimetype": "text/x-python",
   "name": "python",
   "nbconvert_exporter": "python",
   "pygments_lexer": "ipython3",
   "version": "3.6.8"
  }
 },
 "nbformat": 4,
 "nbformat_minor": 2
}
